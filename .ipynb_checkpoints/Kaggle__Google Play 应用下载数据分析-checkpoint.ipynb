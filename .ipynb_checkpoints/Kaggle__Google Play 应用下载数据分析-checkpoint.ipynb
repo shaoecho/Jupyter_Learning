{
 "cells": [
  {
   "cell_type": "markdown",
   "metadata": {},
   "source": [
    "# 0. 介绍\n",
    "如果有人问学数据分析有没有一条捷径的话? 答案可能就是kaggle.  \n",
    "        \n",
    "kaggle上除了很有很多比赛之后,还有很多大大小小的数据集. 这些数据集是极好的练手的素材.   \n",
    "这些数据集从几K到十几个G的都有, 大家可以按需下载.下载地址 : https://www.kaggle.com/datasets   \n",
    "推荐大家下载\"Only Datasets with Tasks\"的数据集, 这些数据集自带任务,各任务下还有大家提交的答案, 这样每个数据集就相当于一个教程,非常有用. \n",
    "![图示](img/1.png)\n",
    "      \n",
    "       \n",
    "本次数据集为 Google 应用商店 App 的下载情况,包含七万多条数据.   \n",
    "下载地址为: https://www.kaggle.com/lava18/google-play-store-apps/tasks?taskId=276\n"
   ]
  },
  {
   "cell_type": "markdown",
   "metadata": {},
   "source": [
    "# 1. 数据集预处理"
   ]
  },
  {
   "cell_type": "code",
   "execution_count": 52,
   "metadata": {},
   "outputs": [],
   "source": [
    "import pandas as pd\n",
    "import numpy as np\n",
    "import matplotlib \n",
    "import matplotlib.pyplot as plt\n",
    "import datetime"
   ]
  },
  {
   "cell_type": "markdown",
   "metadata": {},
   "source": [
    "## 1.1 读取数据"
   ]
  },
  {
   "cell_type": "code",
   "execution_count": 2,
   "metadata": {},
   "outputs": [
    {
     "data": {
      "text/html": [
       "<div>\n",
       "<style scoped>\n",
       "    .dataframe tbody tr th:only-of-type {\n",
       "        vertical-align: middle;\n",
       "    }\n",
       "\n",
       "    .dataframe tbody tr th {\n",
       "        vertical-align: top;\n",
       "    }\n",
       "\n",
       "    .dataframe thead th {\n",
       "        text-align: right;\n",
       "    }\n",
       "</style>\n",
       "<table border=\"1\" class=\"dataframe\">\n",
       "  <thead>\n",
       "    <tr style=\"text-align: right;\">\n",
       "      <th></th>\n",
       "      <th>App</th>\n",
       "      <th>Category</th>\n",
       "      <th>Rating</th>\n",
       "      <th>Reviews</th>\n",
       "      <th>Size</th>\n",
       "      <th>Installs</th>\n",
       "      <th>Type</th>\n",
       "      <th>Price</th>\n",
       "      <th>Content Rating</th>\n",
       "      <th>Genres</th>\n",
       "      <th>Last Updated</th>\n",
       "      <th>Current Ver</th>\n",
       "      <th>Android Ver</th>\n",
       "    </tr>\n",
       "  </thead>\n",
       "  <tbody>\n",
       "    <tr>\n",
       "      <th>10836</th>\n",
       "      <td>Sya9a Maroc - FR</td>\n",
       "      <td>FAMILY</td>\n",
       "      <td>4.5</td>\n",
       "      <td>38</td>\n",
       "      <td>53M</td>\n",
       "      <td>5,000+</td>\n",
       "      <td>Free</td>\n",
       "      <td>0</td>\n",
       "      <td>Everyone</td>\n",
       "      <td>Education</td>\n",
       "      <td>July 25, 2017</td>\n",
       "      <td>1.48</td>\n",
       "      <td>4.1 and up</td>\n",
       "    </tr>\n",
       "    <tr>\n",
       "      <th>10837</th>\n",
       "      <td>Fr. Mike Schmitz Audio Teachings</td>\n",
       "      <td>FAMILY</td>\n",
       "      <td>5.0</td>\n",
       "      <td>4</td>\n",
       "      <td>3.6M</td>\n",
       "      <td>100+</td>\n",
       "      <td>Free</td>\n",
       "      <td>0</td>\n",
       "      <td>Everyone</td>\n",
       "      <td>Education</td>\n",
       "      <td>July 6, 2018</td>\n",
       "      <td>1.0</td>\n",
       "      <td>4.1 and up</td>\n",
       "    </tr>\n",
       "    <tr>\n",
       "      <th>10838</th>\n",
       "      <td>Parkinson Exercices FR</td>\n",
       "      <td>MEDICAL</td>\n",
       "      <td>NaN</td>\n",
       "      <td>3</td>\n",
       "      <td>9.5M</td>\n",
       "      <td>1,000+</td>\n",
       "      <td>Free</td>\n",
       "      <td>0</td>\n",
       "      <td>Everyone</td>\n",
       "      <td>Medical</td>\n",
       "      <td>January 20, 2017</td>\n",
       "      <td>1.0</td>\n",
       "      <td>2.2 and up</td>\n",
       "    </tr>\n",
       "    <tr>\n",
       "      <th>10839</th>\n",
       "      <td>The SCP Foundation DB fr nn5n</td>\n",
       "      <td>BOOKS_AND_REFERENCE</td>\n",
       "      <td>4.5</td>\n",
       "      <td>114</td>\n",
       "      <td>Varies with device</td>\n",
       "      <td>1,000+</td>\n",
       "      <td>Free</td>\n",
       "      <td>0</td>\n",
       "      <td>Mature 17+</td>\n",
       "      <td>Books &amp; Reference</td>\n",
       "      <td>January 19, 2015</td>\n",
       "      <td>Varies with device</td>\n",
       "      <td>Varies with device</td>\n",
       "    </tr>\n",
       "    <tr>\n",
       "      <th>10840</th>\n",
       "      <td>iHoroscope - 2018 Daily Horoscope &amp; Astrology</td>\n",
       "      <td>LIFESTYLE</td>\n",
       "      <td>4.5</td>\n",
       "      <td>398307</td>\n",
       "      <td>19M</td>\n",
       "      <td>10,000,000+</td>\n",
       "      <td>Free</td>\n",
       "      <td>0</td>\n",
       "      <td>Everyone</td>\n",
       "      <td>Lifestyle</td>\n",
       "      <td>July 25, 2018</td>\n",
       "      <td>Varies with device</td>\n",
       "      <td>Varies with device</td>\n",
       "    </tr>\n",
       "  </tbody>\n",
       "</table>\n",
       "</div>"
      ],
      "text/plain": [
       "                                                 App             Category  \\\n",
       "10836                               Sya9a Maroc - FR               FAMILY   \n",
       "10837               Fr. Mike Schmitz Audio Teachings               FAMILY   \n",
       "10838                         Parkinson Exercices FR              MEDICAL   \n",
       "10839                  The SCP Foundation DB fr nn5n  BOOKS_AND_REFERENCE   \n",
       "10840  iHoroscope - 2018 Daily Horoscope & Astrology            LIFESTYLE   \n",
       "\n",
       "       Rating Reviews                Size     Installs  Type Price  \\\n",
       "10836     4.5      38                 53M       5,000+  Free     0   \n",
       "10837     5.0       4                3.6M         100+  Free     0   \n",
       "10838     NaN       3                9.5M       1,000+  Free     0   \n",
       "10839     4.5     114  Varies with device       1,000+  Free     0   \n",
       "10840     4.5  398307                 19M  10,000,000+  Free     0   \n",
       "\n",
       "      Content Rating             Genres      Last Updated         Current Ver  \\\n",
       "10836       Everyone          Education     July 25, 2017                1.48   \n",
       "10837       Everyone          Education      July 6, 2018                 1.0   \n",
       "10838       Everyone            Medical  January 20, 2017                 1.0   \n",
       "10839     Mature 17+  Books & Reference  January 19, 2015  Varies with device   \n",
       "10840       Everyone          Lifestyle     July 25, 2018  Varies with device   \n",
       "\n",
       "              Android Ver  \n",
       "10836          4.1 and up  \n",
       "10837          4.1 and up  \n",
       "10838          2.2 and up  \n",
       "10839  Varies with device  \n",
       "10840  Varies with device  "
      ]
     },
     "execution_count": 2,
     "metadata": {},
     "output_type": "execute_result"
    }
   ],
   "source": [
    "location1 = r'dateset_kaggle/googleplaystore.csv'\n",
    "df1 = pd.read_csv(location1)\n",
    "df1.tail()"
   ]
  },
  {
   "cell_type": "code",
   "execution_count": 3,
   "metadata": {},
   "outputs": [
    {
     "data": {
      "text/html": [
       "<div>\n",
       "<style scoped>\n",
       "    .dataframe tbody tr th:only-of-type {\n",
       "        vertical-align: middle;\n",
       "    }\n",
       "\n",
       "    .dataframe tbody tr th {\n",
       "        vertical-align: top;\n",
       "    }\n",
       "\n",
       "    .dataframe thead th {\n",
       "        text-align: right;\n",
       "    }\n",
       "</style>\n",
       "<table border=\"1\" class=\"dataframe\">\n",
       "  <thead>\n",
       "    <tr style=\"text-align: right;\">\n",
       "      <th></th>\n",
       "      <th>App</th>\n",
       "      <th>Translated_Review</th>\n",
       "      <th>Sentiment</th>\n",
       "      <th>Sentiment_Polarity</th>\n",
       "      <th>Sentiment_Subjectivity</th>\n",
       "    </tr>\n",
       "  </thead>\n",
       "  <tbody>\n",
       "    <tr>\n",
       "      <th>64290</th>\n",
       "      <td>Houzz Interior Design Ideas</td>\n",
       "      <td>NaN</td>\n",
       "      <td>NaN</td>\n",
       "      <td>NaN</td>\n",
       "      <td>NaN</td>\n",
       "    </tr>\n",
       "    <tr>\n",
       "      <th>64291</th>\n",
       "      <td>Houzz Interior Design Ideas</td>\n",
       "      <td>NaN</td>\n",
       "      <td>NaN</td>\n",
       "      <td>NaN</td>\n",
       "      <td>NaN</td>\n",
       "    </tr>\n",
       "    <tr>\n",
       "      <th>64292</th>\n",
       "      <td>Houzz Interior Design Ideas</td>\n",
       "      <td>NaN</td>\n",
       "      <td>NaN</td>\n",
       "      <td>NaN</td>\n",
       "      <td>NaN</td>\n",
       "    </tr>\n",
       "    <tr>\n",
       "      <th>64293</th>\n",
       "      <td>Houzz Interior Design Ideas</td>\n",
       "      <td>NaN</td>\n",
       "      <td>NaN</td>\n",
       "      <td>NaN</td>\n",
       "      <td>NaN</td>\n",
       "    </tr>\n",
       "    <tr>\n",
       "      <th>64294</th>\n",
       "      <td>Houzz Interior Design Ideas</td>\n",
       "      <td>NaN</td>\n",
       "      <td>NaN</td>\n",
       "      <td>NaN</td>\n",
       "      <td>NaN</td>\n",
       "    </tr>\n",
       "  </tbody>\n",
       "</table>\n",
       "</div>"
      ],
      "text/plain": [
       "                               App Translated_Review Sentiment  \\\n",
       "64290  Houzz Interior Design Ideas               NaN       NaN   \n",
       "64291  Houzz Interior Design Ideas               NaN       NaN   \n",
       "64292  Houzz Interior Design Ideas               NaN       NaN   \n",
       "64293  Houzz Interior Design Ideas               NaN       NaN   \n",
       "64294  Houzz Interior Design Ideas               NaN       NaN   \n",
       "\n",
       "       Sentiment_Polarity  Sentiment_Subjectivity  \n",
       "64290                 NaN                     NaN  \n",
       "64291                 NaN                     NaN  \n",
       "64292                 NaN                     NaN  \n",
       "64293                 NaN                     NaN  \n",
       "64294                 NaN                     NaN  "
      ]
     },
     "execution_count": 3,
     "metadata": {},
     "output_type": "execute_result"
    }
   ],
   "source": [
    "location2 = r'dateset_kaggle/googleplaystore_user_reviews.csv'\n",
    "df2 = pd.read_csv(location2)\n",
    "df2.tail()"
   ]
  },
  {
   "cell_type": "code",
   "execution_count": 4,
   "metadata": {},
   "outputs": [
    {
     "name": "stdout",
     "output_type": "stream",
     "text": [
      "<class 'pandas.core.frame.DataFrame'>\n",
      "RangeIndex: 10841 entries, 0 to 10840\n",
      "Data columns (total 13 columns):\n",
      " #   Column          Non-Null Count  Dtype  \n",
      "---  ------          --------------  -----  \n",
      " 0   App             10841 non-null  object \n",
      " 1   Category        10841 non-null  object \n",
      " 2   Rating          9367 non-null   float64\n",
      " 3   Reviews         10841 non-null  object \n",
      " 4   Size            10841 non-null  object \n",
      " 5   Installs        10841 non-null  object \n",
      " 6   Type            10840 non-null  object \n",
      " 7   Price           10841 non-null  object \n",
      " 8   Content Rating  10840 non-null  object \n",
      " 9   Genres          10841 non-null  object \n",
      " 10  Last Updated    10841 non-null  object \n",
      " 11  Current Ver     10833 non-null  object \n",
      " 12  Android Ver     10838 non-null  object \n",
      "dtypes: float64(1), object(12)\n",
      "memory usage: 1.1+ MB\n"
     ]
    }
   ],
   "source": [
    "df1.info()\n",
    "#df1.isnull().sum()"
   ]
  },
  {
   "cell_type": "markdown",
   "metadata": {},
   "source": [
    "读取数据后, 第一步就需要查看一下数据的大体情况. \n",
    "\n",
    "这里可以看出原数据的很多格式问题.        \n",
    "Reviews列,Installs列 都是字符串格式.         \n",
    "Price列带有单位$,也包含Everyone, 并且是字符串格式.       \n",
    "Size列带单位M和K,也包含Varies with device.        \n",
    "Last Updated列日期格式不规范.      \n",
    "Current Ver列包含Varies with device,并且是字符串格式.    \n",
    "Android Ver列包含Varies with device,并且是字符串格式.\n",
    "   \n",
    "所以需要先对数据进行一些基础的处理,后面遇到具体任务的时候, 可能还要再做一些特定的处理."
   ]
  },
  {
   "cell_type": "markdown",
   "metadata": {},
   "source": [
    "## 1.2 数据格式转换"
   ]
  },
  {
   "cell_type": "markdown",
   "metadata": {},
   "source": [
    "### 1.2.1 处理Price列 : 删除异常值,去掉$,转化为数值型"
   ]
  },
  {
   "cell_type": "markdown",
   "metadata": {},
   "source": [
    "用 df1['Price'].unique() 查看Price列中有哪些不重复值      \n",
    "发现问题有3个:           \n",
    "1)有异常值\"Everyone\"    \n",
    "2)值有带$单位       \n",
    "3)值都是字符串型,应该是数值型    "
   ]
  },
  {
   "cell_type": "code",
   "execution_count": 5,
   "metadata": {},
   "outputs": [],
   "source": [
    "# 1) 删除异常值\n",
    "\n",
    "# 先查看下值为\"Everyone\"数据量有多少, 评估下删除对整体数据的影响.\n",
    "df1.groupby(['Price']).size()['Everyone']  #返回1,只有1条'Everyone'数据,所以直接删掉.\n",
    "\n",
    "#删除'Price'列中\"Everyone\"所在行, 用取反排除的方法.\n",
    "df1 = df1[~df1['Price'].isin(['Everyone'])]\n",
    "\n",
    "df1['Price'].unique()   # 检查是否成功删除\n",
    "\n",
    "# 2) 将'Price'列中的$去掉\n",
    "df1['Price'] = df1['Price'].str.strip('$')\n",
    "\n",
    "# 3) 将'Price'列转化为数字型\n",
    "df1['Price'] = df1['Price'].astype('float')"
   ]
  },
  {
   "cell_type": "markdown",
   "metadata": {},
   "source": [
    "### 1.2.2 处理Size列 : 替换异常值,统一计量单位,去掉单位,改为数值型"
   ]
  },
  {
   "cell_type": "markdown",
   "metadata": {},
   "source": [
    "用df1['Size'].unique() 查看Size列中有哪些不重复值  \n",
    "         \n",
    "发现问题有4个:     \n",
    "1) 有异常值'Varies with device'??为什么用f1['Size'].unique()显示不出来???   \n",
    "2) 单位有M和K, 需要统一 ,需要去掉单位,并且值都是字符串型,应该是数值型"
   ]
  },
  {
   "cell_type": "code",
   "execution_count": 6,
   "metadata": {
    "scrolled": true
   },
   "outputs": [
    {
     "data": {
      "text/plain": [
       "1695"
      ]
     },
     "execution_count": 6,
     "metadata": {},
     "output_type": "execute_result"
    }
   ],
   "source": [
    "# 1) 处理异常值\n",
    "\n",
    "#df1.groupby(['Size']).size()['Varies with device']   \n",
    "# 返回1695,数据量较大, 最好不要直接删除,此处用0代替.\n",
    "\n",
    "df1['Size'] = df1['Size'].replace('Varies with device','0') # 将'Varies with device'转化为'0'\n",
    "'0'  in  df1['Size'].values.tolist()\n",
    "df1.groupby(['Size']).size()['0']  "
   ]
  },
  {
   "cell_type": "code",
   "execution_count": 7,
   "metadata": {},
   "outputs": [
    {
     "data": {
      "text/plain": [
       "array([1.9e+01, 1.4e+01, 8.7e+00, 2.5e+01, 2.8e+00, 5.6e+00, 2.9e+01,\n",
       "       3.3e+01, 3.1e+00, 2.8e+01, 1.2e+01, 2.0e+01, 2.1e+01, 3.7e+01,\n",
       "       2.7e+00, 5.5e+00, 1.7e+01, 3.9e+01, 3.1e+01, 4.2e+00, 7.0e+00,\n",
       "       2.3e+01, 6.0e+00, 6.1e+00, 4.6e+00, 9.2e+00, 5.2e+00, 1.1e+01,\n",
       "       2.4e+01, 0.0e+00, 9.4e+00, 1.5e+01, 1.0e+01, 1.2e+00, 2.6e+01,\n",
       "       8.0e+00, 7.9e+00, 5.6e+01, 5.7e+01, 3.5e+01, 5.4e+01, 2.0e-01,\n",
       "       3.6e+00, 5.7e+00, 8.6e+00, 2.4e+00, 2.7e+01, 2.5e+00, 1.6e+01,\n",
       "       3.4e+00, 8.9e+00, 3.9e+00, 2.9e+00, 3.8e+01, 3.2e+01, 5.4e+00,\n",
       "       1.8e+01, 1.1e+00, 2.2e+00, 4.5e+00, 9.8e+00, 5.2e+01, 9.0e+00,\n",
       "       6.7e+00, 3.0e+01, 2.6e+00, 7.1e+00, 3.7e+00, 2.2e+01, 7.4e+00,\n",
       "       6.4e+00, 3.2e+00, 8.2e+00, 9.9e+00, 4.9e+00, 9.5e+00, 5.0e+00,\n",
       "       5.9e+00, 1.3e+01, 7.3e+01, 6.8e+00, 3.5e+00, 4.0e+00, 2.3e+00,\n",
       "       7.2e+00, 2.1e+00, 4.2e+01, 7.3e+00, 9.1e+00, 5.5e+01, 2.0e-02,\n",
       "       6.5e+00, 1.5e+00, 7.5e+00, 5.1e+01, 4.1e+01, 4.8e+01, 8.5e+00,\n",
       "       4.6e+01, 8.3e+00, 4.3e+00, 4.7e+00, 3.3e+00, 4.0e+01, 7.8e+00,\n",
       "       8.8e+00, 6.6e+00, 5.1e+00, 6.1e+01, 6.6e+01, 8.0e-02, 8.4e+00,\n",
       "       1.2e-01, 4.4e+01, 6.8e-01, 1.6e+00, 6.2e+00, 5.3e+01, 1.4e+00,\n",
       "       3.0e+00, 5.8e+00, 3.8e+00, 9.6e+00, 4.5e+01, 6.3e+01, 4.9e+01,\n",
       "       7.7e+01, 4.4e+00, 4.8e+00, 7.0e+01, 6.9e+00, 9.3e+00, 8.1e+00,\n",
       "       3.6e+01, 8.4e+01, 9.7e+01, 2.0e+00, 1.9e+00, 1.8e+00, 5.3e+00,\n",
       "       4.7e+01, 5.4e-01, 5.1e-01, 7.6e+01, 7.6e+00, 5.9e+01, 9.7e+00,\n",
       "       7.8e+01, 7.2e+01, 4.3e+01, 7.7e+00, 6.3e+00, 3.3e-01, 3.4e+01,\n",
       "       9.3e+01, 6.5e+01, 7.9e+01, 1.0e+02, 5.8e+01, 5.0e+01, 6.8e+01,\n",
       "       6.4e+01, 6.7e+01, 6.0e+01, 9.4e+01, 2.3e-01, 9.9e+01, 6.1e-01,\n",
       "       9.5e+01, 1.0e-02, 4.0e-02, 2.9e-01, 8.0e+01, 1.7e+00, 7.4e+01,\n",
       "       6.2e+01, 6.9e+01, 7.5e+01, 9.8e+01, 8.5e+01, 8.2e+01, 9.6e+01,\n",
       "       8.7e+01, 7.1e+01, 8.6e+01, 9.1e+01, 8.1e+01, 9.2e+01, 8.3e+01,\n",
       "       8.8e+01, 6.9e-01, 8.4e-01, 8.8e-01, 3.7e-01, 2.6e-01, 1.3e+00,\n",
       "       9.5e-01, 9.6e-01, 4.1e+00, 8.9e+01, 5.3e-01, 9.0e-01, 7.6e-01,\n",
       "       8.3e-01, 7.0e-01, 7.5e-01, 3.1e-01, 6.0e-02, 2.4e-01, 1.9e-01,\n",
       "       5.0e-02, 9.3e-01, 2.5e-01, 9.1e-01, 7.3e-01, 3.0e-02, 3.6e-01,\n",
       "       2.1e-01, 7.1e-01, 7.4e-01, 9.0e-02, 7.0e-02, 8.0e-01, 9.2e-01,\n",
       "       1.7e-01, 4.6e-01, 9.4e-01, 9.0e+01, 2.8e-01, 6.4e-01, 8.5e-01,\n",
       "       1.0e+00, 4.3e-01, 5.9e-01, 3.0e-01, 3.4e-01, 4.4e-01, 4.1e-01,\n",
       "       7.9e-01, 8.2e-01, 4.0e-01, 4.5e-01, 4.7e-01, 4.2e-01, 4.8e-01,\n",
       "       4.9e-01, 8.7e-01, 6.0e-01, 5.6e-01, 6.7e-01, 5.8e-01, 1.8e-01,\n",
       "       6.3e-01, 5.7e-01, 2.2e-01, 3.2e-01, 5.0e-01, 8.9e-01, 1.0e-01,\n",
       "       1.1e-01, 1.5e-01, 3.9e-01, 7.8e-01, 7.7e-01, 8.6e-01, 6.5e-01,\n",
       "       1.6e-01, 6.2e-01, 9.7e-01, 5.5e-01, 2.7e-01, 3.8e-01, 1.4e-01,\n",
       "       6.6e-01])"
      ]
     },
     "execution_count": 7,
     "metadata": {},
     "output_type": "execute_result"
    }
   ],
   "source": [
    "# 2) 将单位统一(k=M/1024), 然后去掉单位,并转化为浮点型.\n",
    "def convert_K2M(item): \n",
    "    if 'k' in item :\n",
    "        item = round(float(item.replace('k',''))/1024 ,2)\n",
    "    else:\n",
    "        item = round(float(item.replace('M','')),2)     \n",
    "    return item \n",
    "\n",
    "df1['Size']= df1['Size'].apply(convert_K2M)\n",
    "df1['Size'].unique()"
   ]
  },
  {
   "cell_type": "markdown",
   "metadata": {},
   "source": [
    "### 1.2.3 处理Reviews列 : 改变数据类型"
   ]
  },
  {
   "cell_type": "code",
   "execution_count": 19,
   "metadata": {},
   "outputs": [],
   "source": [
    "# 转为为float型\n",
    "df1['Reviews'] = df1['Reviews'].astype('float')"
   ]
  },
  {
   "cell_type": "markdown",
   "metadata": {},
   "source": [
    "### 1.2.4 处理Installs列 : 去掉加号和逗号,  改变数据类型"
   ]
  },
  {
   "cell_type": "code",
   "execution_count": 30,
   "metadata": {},
   "outputs": [],
   "source": [
    "# 1) 去掉值中的+号和,号\n",
    "df1['Installs'] = df1['Installs'].replace('+','').str.replace(',','')"
   ]
  },
  {
   "cell_type": "code",
   "execution_count": 31,
   "metadata": {},
   "outputs": [],
   "source": [
    "# 2) 转为为float型\n",
    "df1['Installs'] = df1['Installs'].astype('float')"
   ]
  },
  {
   "cell_type": "markdown",
   "metadata": {},
   "source": [
    "### 1.2.5 处理Last Updated列 : 改变时间类型"
   ]
  },
  {
   "cell_type": "code",
   "execution_count": null,
   "metadata": {},
   "outputs": [],
   "source": [
    "# 原数据日期格式比较怪,用7-JAN-18来表示2018-1-15. January 7, 2018\n",
    "# ('January 7, 2018').split(' ') 返回['January', '7,', '2018']\n",
    "\n",
    "def time_update (item):  \n",
    "    t1 = item.replace(',','').replace(' ','') #得到类似January72018\n",
    "    t2 = datetime.datetime.strptime(t1,'%B%d%Y') #%B表示英文月份.\n",
    "    return t2\n",
    "\n",
    "df1['Last Updated'] = df1['Last Updated'].apply(time_update )\n",
    "df1['Last Updated']"
   ]
  },
  {
   "cell_type": "code",
   "execution_count": null,
   "metadata": {},
   "outputs": [],
   "source": []
  },
  {
   "cell_type": "code",
   "execution_count": null,
   "metadata": {},
   "outputs": [],
   "source": []
  },
  {
   "cell_type": "code",
   "execution_count": null,
   "metadata": {},
   "outputs": [],
   "source": []
  },
  {
   "cell_type": "code",
   "execution_count": null,
   "metadata": {},
   "outputs": [],
   "source": []
  },
  {
   "cell_type": "code",
   "execution_count": null,
   "metadata": {},
   "outputs": [],
   "source": []
  },
  {
   "cell_type": "code",
   "execution_count": null,
   "metadata": {},
   "outputs": [],
   "source": []
  }
 ],
 "metadata": {
  "kernelspec": {
   "display_name": "Python 3",
   "language": "python",
   "name": "python3"
  },
  "language_info": {
   "codemirror_mode": {
    "name": "ipython",
    "version": 3
   },
   "file_extension": ".py",
   "mimetype": "text/x-python",
   "name": "python",
   "nbconvert_exporter": "python",
   "pygments_lexer": "ipython3",
   "version": "3.7.6"
  }
 },
 "nbformat": 4,
 "nbformat_minor": 4
}
