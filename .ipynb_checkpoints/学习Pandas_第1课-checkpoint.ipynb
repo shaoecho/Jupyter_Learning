{
 "cells": [
  {
   "cell_type": "markdown",
   "metadata": {},
   "source": [
    "主要内容:   \n",
    "\n",
    "1) **创建数据**- 我们从创建自己的数据开始。   \n",
    "这避免了阅读这个教程的用户需要去下载任何文件来重现结果。我们将会把这些数据导出到一个文本文件中这样你就可以试着从这个文件中去读取数据。\n",
    "\n",
    "2) **获取数据** - 我们将学习如何从文本文件中读取数据。   \n",
    "这些数据包含了1880年出生的婴儿数以及他们使用的名字。\n",
    "\n",
    "3) **准备数据** - 这里我们将简单看一下数据并确保数据是干净的，  \n",
    "就是说我们将看一下文件中的数据并寻找一些可能异常的数据。 这可能包括了数据缺失(missing data)，数据不一致(inconsistant)，或者在正常范围之外(out of place)。 如果有这样的数据，我们将决定如何处置这些数据。\n",
    "\n",
    "4) **分析数据** - 我们将简单地找出一个给定年份中最热门的名字。  \n",
    "表现数据 - 通过表格和图形，向用户清晰地展示在一个给定的年份中最热门的名字。"
   ]
  },
  {
   "cell_type": "code",
   "execution_count": 12,
   "metadata": {},
   "outputs": [],
   "source": [
    "# 导入所需要的某库的函数\n",
    "from pandas import DataFrame, read_csv  \n",
    "\n",
    "# 导入一个库\n",
    "import matplotlib.pyplot as plt\n",
    "import pandas as pd      #导入pandas的常规做法\n",
    "import sys               #导入sys库只是为了确认一下Python的版本\n",
    "import matplotlib        #这样导入matplotlib只是为了显示一下其版本号"
   ]
  },
  {
   "cell_type": "code",
   "execution_count": 8,
   "metadata": {},
   "outputs": [
    {
     "name": "stdout",
     "output_type": "stream",
     "text": [
      "Python version 3.7.6 | packaged by conda-forge | (default, Mar 23 2020, 22:22:21) [MSC v.1916 64 bit (AMD64)]\n",
      "Pandas version 1.0.3\n",
      "Matplotlib version 3.2.1\n"
     ]
    }
   ],
   "source": [
    "# 初始化matplotlib，用inline方式显示图形\n",
    "%matplotlib inline   \n",
    "\n",
    "print('Python version ' + sys.version)      \n",
    "print('Pandas version ' + pd.__version__)    \n",
    "print('Matplotlib version ' + matplotlib.__version__)   "
   ]
  },
  {
   "cell_type": "markdown",
   "metadata": {},
   "source": [
    "# 1) 创建数据"
   ]
  },
  {
   "cell_type": "markdown",
   "metadata": {},
   "source": [
    "这个简单的数据集包括了：1880年出生的，5个常用的婴儿的名字，以及对应的婴儿数量。"
   ]
  },
  {
   "cell_type": "code",
   "execution_count": 9,
   "metadata": {},
   "outputs": [],
   "source": [
    "# 初始数据集: 婴儿名字和出生率\n",
    "names = ['Bob','Jessica','Mary','John','Mel']\n",
    "births = [968, 155, 77, 578, 973]"
   ]
  },
  {
   "cell_type": "code",
   "execution_count": 10,
   "metadata": {},
   "outputs": [
    {
     "data": {
      "text/plain": [
       "[('Bob', 968), ('Jessica', 155), ('Mary', 77), ('John', 578), ('Mel', 973)]"
      ]
     },
     "execution_count": 10,
     "metadata": {},
     "output_type": "execute_result"
    }
   ],
   "source": [
    "# 用 zip 函数将这两个列表合并在一起\n",
    "BabyDataSet = list(zip(names, births))\n",
    "BabyDataSet"
   ]
  },
  {
   "cell_type": "code",
   "execution_count": 17,
   "metadata": {
    "scrolled": true
   },
   "outputs": [
    {
     "data": {
      "text/html": [
       "<div>\n",
       "<style scoped>\n",
       "    .dataframe tbody tr th:only-of-type {\n",
       "        vertical-align: middle;\n",
       "    }\n",
       "\n",
       "    .dataframe tbody tr th {\n",
       "        vertical-align: top;\n",
       "    }\n",
       "\n",
       "    .dataframe thead th {\n",
       "        text-align: right;\n",
       "    }\n",
       "</style>\n",
       "<table border=\"1\" class=\"dataframe\">\n",
       "  <thead>\n",
       "    <tr style=\"text-align: right;\">\n",
       "      <th></th>\n",
       "      <th>Names</th>\n",
       "      <th>Births</th>\n",
       "    </tr>\n",
       "  </thead>\n",
       "  <tbody>\n",
       "    <tr>\n",
       "      <th>0</th>\n",
       "      <td>Bob</td>\n",
       "      <td>968</td>\n",
       "    </tr>\n",
       "    <tr>\n",
       "      <th>1</th>\n",
       "      <td>Jessica</td>\n",
       "      <td>155</td>\n",
       "    </tr>\n",
       "    <tr>\n",
       "      <th>2</th>\n",
       "      <td>Mary</td>\n",
       "      <td>77</td>\n",
       "    </tr>\n",
       "    <tr>\n",
       "      <th>3</th>\n",
       "      <td>John</td>\n",
       "      <td>578</td>\n",
       "    </tr>\n",
       "    <tr>\n",
       "      <th>4</th>\n",
       "      <td>Mel</td>\n",
       "      <td>973</td>\n",
       "    </tr>\n",
       "  </tbody>\n",
       "</table>\n",
       "</div>"
      ],
      "text/plain": [
       "     Names  Births\n",
       "0      Bob     968\n",
       "1  Jessica     155\n",
       "2     Mary      77\n",
       "3     John     578\n",
       "4      Mel     973"
      ]
     },
     "execution_count": 17,
     "metadata": {},
     "output_type": "execute_result"
    }
   ],
   "source": [
    "# 先将BabyDataSet数据集转化为DataFrame对象(df),df的格式非常像一个表格.\n",
    "df = pd.DataFrame(data = BabyDataSet, columns=['Names', 'Births'])\n",
    "df"
   ]
  },
  {
   "cell_type": "code",
   "execution_count": 18,
   "metadata": {},
   "outputs": [],
   "source": [
    "# 将dataframe导出到一个csv文件中。我们将导出文件命名为 births1880.csv。\n",
    "# 导出csv文件的函数是to_csv。\n",
    "# 除非你指定了其他的文件目录否则导出的文件将保存在和notebook文件相同的位置。\n",
    "\n",
    "df.to_csv('births1880.csv',index=False ,header=False)\n",
    "\n",
    "#参将index和header这两个参数设置为 False,将会防止索引(index)和列名(header names)被导出到文件中。"
   ]
  },
  {
   "cell_type": "markdown",
   "metadata": {},
   "source": [
    "# 2)获取数据"
   ]
  },
  {
   "cell_type": "code",
   "execution_count": 21,
   "metadata": {},
   "outputs": [
    {
     "data": {
      "text/html": [
       "<div>\n",
       "<style scoped>\n",
       "    .dataframe tbody tr th:only-of-type {\n",
       "        vertical-align: middle;\n",
       "    }\n",
       "\n",
       "    .dataframe tbody tr th {\n",
       "        vertical-align: top;\n",
       "    }\n",
       "\n",
       "    .dataframe thead th {\n",
       "        text-align: right;\n",
       "    }\n",
       "</style>\n",
       "<table border=\"1\" class=\"dataframe\">\n",
       "  <thead>\n",
       "    <tr style=\"text-align: right;\">\n",
       "      <th></th>\n",
       "      <th>0</th>\n",
       "      <th>1</th>\n",
       "    </tr>\n",
       "  </thead>\n",
       "  <tbody>\n",
       "    <tr>\n",
       "      <th>0</th>\n",
       "      <td>Bob</td>\n",
       "      <td>968</td>\n",
       "    </tr>\n",
       "    <tr>\n",
       "      <th>1</th>\n",
       "      <td>Jessica</td>\n",
       "      <td>155</td>\n",
       "    </tr>\n",
       "    <tr>\n",
       "      <th>2</th>\n",
       "      <td>Mary</td>\n",
       "      <td>77</td>\n",
       "    </tr>\n",
       "    <tr>\n",
       "      <th>3</th>\n",
       "      <td>John</td>\n",
       "      <td>578</td>\n",
       "    </tr>\n",
       "    <tr>\n",
       "      <th>4</th>\n",
       "      <td>Mel</td>\n",
       "      <td>973</td>\n",
       "    </tr>\n",
       "  </tbody>\n",
       "</table>\n",
       "</div>"
      ],
      "text/plain": [
       "         0    1\n",
       "0      Bob  968\n",
       "1  Jessica  155\n",
       "2     Mary   77\n",
       "3     John  578\n",
       "4      Mel  973"
      ]
     },
     "execution_count": 21,
     "metadata": {},
     "output_type": "execute_result"
    }
   ],
   "source": [
    "# 用 pandas 的 read_csv 函数从 csv 文件中获取数据。\n",
    "Location = r'./births1880.csv'    # 从notebook当前的位置读取csv文件\n",
    "df = pd.read_csv(Location,header=None)\n",
    "df"
   ]
  },
  {
   "cell_type": "markdown",
   "metadata": {},
   "source": [
    "注意点:   \n",
    "1) 注意字符串之前的 r 。   \n",
    "因为斜线(slash)是一个特殊字符，在字符串之前放置前导的 r 则会把整个字符串进行转义。  \n",
    "\n",
    "2) header=None\n",
    "因为数据集没有提供列名。如果不设置\"header=None\",那就会将第一行数据为列名.  \n",
    "设置header=None, 则会以0,1为列名.    \n",
    "\n",
    "3) 如果想要指定列名, 可以传入另外一个参数 names，同时去掉 header 这个参数。"
   ]
  },
  {
   "cell_type": "code",
   "execution_count": 24,
   "metadata": {},
   "outputs": [
    {
     "data": {
      "text/html": [
       "<div>\n",
       "<style scoped>\n",
       "    .dataframe tbody tr th:only-of-type {\n",
       "        vertical-align: middle;\n",
       "    }\n",
       "\n",
       "    .dataframe tbody tr th {\n",
       "        vertical-align: top;\n",
       "    }\n",
       "\n",
       "    .dataframe thead th {\n",
       "        text-align: right;\n",
       "    }\n",
       "</style>\n",
       "<table border=\"1\" class=\"dataframe\">\n",
       "  <thead>\n",
       "    <tr style=\"text-align: right;\">\n",
       "      <th></th>\n",
       "      <th>Names</th>\n",
       "      <th>Births</th>\n",
       "    </tr>\n",
       "  </thead>\n",
       "  <tbody>\n",
       "    <tr>\n",
       "      <th>0</th>\n",
       "      <td>Bob</td>\n",
       "      <td>968</td>\n",
       "    </tr>\n",
       "    <tr>\n",
       "      <th>1</th>\n",
       "      <td>Jessica</td>\n",
       "      <td>155</td>\n",
       "    </tr>\n",
       "    <tr>\n",
       "      <th>2</th>\n",
       "      <td>Mary</td>\n",
       "      <td>77</td>\n",
       "    </tr>\n",
       "    <tr>\n",
       "      <th>3</th>\n",
       "      <td>John</td>\n",
       "      <td>578</td>\n",
       "    </tr>\n",
       "    <tr>\n",
       "      <th>4</th>\n",
       "      <td>Mel</td>\n",
       "      <td>973</td>\n",
       "    </tr>\n",
       "  </tbody>\n",
       "</table>\n",
       "</div>"
      ],
      "text/plain": [
       "     Names  Births\n",
       "0      Bob     968\n",
       "1  Jessica     155\n",
       "2     Mary      77\n",
       "3     John     578\n",
       "4      Mel     973"
      ]
     },
     "execution_count": 24,
     "metadata": {},
     "output_type": "execute_result"
    }
   ],
   "source": [
    "df = pd.read_csv(Location, names=['Names', 'Births'])  #指定列名\n",
    "df"
   ]
  },
  {
   "cell_type": "markdown",
   "metadata": {},
   "source": [
    "# 3) 清洗数据"
   ]
  },
  {
   "cell_type": "markdown",
   "metadata": {},
   "source": [
    "我们的数据包含了1880年出生的婴儿及其数量。   \n",
    "我们已经知道我们有5条记录而且没有缺失值(所有值都是非空 non-null 的)。\n",
    "\n",
    "Names 列是由字母和数字串组成的婴儿名字。 这一列也许会出现一些脏数据但我们现在不需要有太多顾虑。   \n",
    "\n",
    "Births 列应该是通过整型数字(integers)表示一个指定年份指定婴儿名字的出生率。   \n",
    "我们可以检查一下是否这一列的数字都是整型。这一列出现浮点型(float)是没有意义的。\n",
    "但我们不需要担心这一列出现任何可能的离群值(outlier)。\n",
    "\n",
    "请注意在目前这个阶段，简单地看一下dataframe中的数据来检查\"Names\"列已经足够了。 \n",
    "在之后我们做数据分析的过程中，我们还有很多机会来发现数据中的问题。"
   ]
  },
  {
   "cell_type": "code",
   "execution_count": 27,
   "metadata": {},
   "outputs": [
    {
     "data": {
      "text/plain": [
       "Names     object\n",
       "Births     int64\n",
       "dtype: object"
      ]
     },
     "execution_count": 27,
     "metadata": {},
     "output_type": "execute_result"
    }
   ],
   "source": [
    "# 查看每一列的数据类型\n",
    "df.dtypes"
   ]
  },
  {
   "cell_type": "code",
   "execution_count": 28,
   "metadata": {},
   "outputs": [
    {
     "data": {
      "text/plain": [
       "dtype('int64')"
      ]
     },
     "execution_count": 28,
     "metadata": {},
     "output_type": "execute_result"
    }
   ],
   "source": [
    "# 查看Births列的数据类型\n",
    "df.Births.dtype"
   ]
  },
  {
   "cell_type": "markdown",
   "metadata": {},
   "source": [
    "# 4)分析数据"
   ]
  },
  {
   "cell_type": "markdown",
   "metadata": {},
   "source": [
    "要找到最高出生率的婴儿名或者是最热门的婴儿名字，我们可以这么做。  \n",
    "    方法01. 将 dataframe 排序并且找到第一行  \n",
    "    方法02. 使用 max() 属性找到最大值"
   ]
  },
  {
   "cell_type": "code",
   "execution_count": 38,
   "metadata": {},
   "outputs": [
    {
     "data": {
      "text/html": [
       "<div>\n",
       "<style scoped>\n",
       "    .dataframe tbody tr th:only-of-type {\n",
       "        vertical-align: middle;\n",
       "    }\n",
       "\n",
       "    .dataframe tbody tr th {\n",
       "        vertical-align: top;\n",
       "    }\n",
       "\n",
       "    .dataframe thead th {\n",
       "        text-align: right;\n",
       "    }\n",
       "</style>\n",
       "<table border=\"1\" class=\"dataframe\">\n",
       "  <thead>\n",
       "    <tr style=\"text-align: right;\">\n",
       "      <th></th>\n",
       "      <th>Names</th>\n",
       "      <th>Births</th>\n",
       "    </tr>\n",
       "  </thead>\n",
       "  <tbody>\n",
       "    <tr>\n",
       "      <th>4</th>\n",
       "      <td>Mel</td>\n",
       "      <td>973</td>\n",
       "    </tr>\n",
       "  </tbody>\n",
       "</table>\n",
       "</div>"
      ],
      "text/plain": [
       "  Names  Births\n",
       "4   Mel     973"
      ]
     },
     "execution_count": 38,
     "metadata": {},
     "output_type": "execute_result"
    }
   ],
   "source": [
    "# 方法01.\n",
    "Sorted = df.sort_values(['Births'],ascending = False)\n",
    "Sorted.head(1)"
   ]
  },
  {
   "cell_type": "code",
   "execution_count": 31,
   "metadata": {},
   "outputs": [
    {
     "data": {
      "text/plain": [
       "973"
      ]
     },
     "execution_count": 31,
     "metadata": {},
     "output_type": "execute_result"
    }
   ],
   "source": [
    "# 方法02.\n",
    "df['Births'].max()"
   ]
  },
  {
   "cell_type": "markdown",
   "metadata": {},
   "source": [
    "# 5) 表现数据"
   ]
  },
  {
   "cell_type": "markdown",
   "metadata": {},
   "source": [
    "分析:  \n",
    "我们可以将 Births 这一列标记在图形上向用户展示数值最大的点。  \n",
    "对照数据表，用户就会有一个非常直观的画面 Mel 是这组数据中最热门的婴儿名字。  \n",
    "  \n",
    "pandas 使用非常方便的 plot() 让你用 dataframe 中的数据来轻松制图。   \n",
    "刚才我们在 Births 列找到了最大值，现在我们要找到 973 这个值对应的婴儿名字。\n",
    "  \n",
    "**方法01:**  \n",
    "  \n",
    "df['Names'][df['Births'] == df['Births'].max()]\n",
    "   \n",
    "意思是在 Names 列中挑选出 [Births 列的值等于 973] \n",
    "(Select all of the records in the Names column WHERE [The Births column is equal to 973])    \n",
    "\n",
    "**每一部分的解释:**   \n",
    "df['Names'] - 这是完整的婴儿名字的列表，完整的 Names 列  \n",
    "df['Births'] - 这是1880年的出生率，完整的 Births 列  \n",
    "df['Births'].max() - 这是 Births 列中的最大值   \n",
    "    \n",
    "[df['Births'] == df['Births'].max()] 的意思是 [在 Births 列中找到值是 973 的所有记录] \n",
    "\n",
    "    \n",
    "**方法02:** \n",
    "上一步已经定义了sorted是将df按照Births列倒序排列.    \n",
    "MaxName = Sorted['Names'].head(1).values "
   ]
  },
  {
   "cell_type": "code",
   "execution_count": 47,
   "metadata": {},
   "outputs": [
    {
     "name": "stdout",
     "output_type": "stream",
     "text": [
      "The most popular name\n"
     ]
    },
    {
     "data": {
      "text/html": [
       "<div>\n",
       "<style scoped>\n",
       "    .dataframe tbody tr th:only-of-type {\n",
       "        vertical-align: middle;\n",
       "    }\n",
       "\n",
       "    .dataframe tbody tr th {\n",
       "        vertical-align: top;\n",
       "    }\n",
       "\n",
       "    .dataframe thead th {\n",
       "        text-align: right;\n",
       "    }\n",
       "</style>\n",
       "<table border=\"1\" class=\"dataframe\">\n",
       "  <thead>\n",
       "    <tr style=\"text-align: right;\">\n",
       "      <th></th>\n",
       "      <th>Names</th>\n",
       "      <th>Births</th>\n",
       "    </tr>\n",
       "  </thead>\n",
       "  <tbody>\n",
       "    <tr>\n",
       "      <th>4</th>\n",
       "      <td>Mel</td>\n",
       "      <td>973</td>\n",
       "    </tr>\n",
       "  </tbody>\n",
       "</table>\n",
       "</div>"
      ],
      "text/plain": [
       "  Names  Births\n",
       "4   Mel     973"
      ]
     },
     "execution_count": 47,
     "metadata": {},
     "output_type": "execute_result"
    },
    {
     "data": {
      "image/png": "[encoded data removed]",
      "text/plain": [
       "<Figure size 432x288 with 1 Axes>"
      ]
     },
     "metadata": {
      "needs_background": "light"
     },
     "output_type": "display_data"
    }
   ],
   "source": [
    "# 绘图  \n",
    "df['Births'].plot.bar()  #这里改用的条形图更直观  \n",
    "  \n",
    "# Births 中的最大值   \n",
    "MaxValue = df['Births'].max()   \n",
    "  \n",
    "# 找到对应的 Names 值\n",
    "MaxName = df['Names'][df['Births'] == df['Births'].max()].values\n",
    "\n",
    "# 准备要显示的文本,str() 可以将一个对象转换为字符串。\n",
    "Text = str(MaxValue) + \" - \" + MaxName\n",
    "\n",
    "# 将文本显示在图形中,annotate用于在图形上给数据添加文本注解\n",
    "plt.annotate(Text,                        # 注释文本的内容\n",
    "             xy=(1, MaxValue),            # 被注释的坐标点\n",
    "             xytext=(8, 0),               # 注释文本的坐标点\n",
    "             xycoords=('axes fraction', 'data'),   # 被注释点的坐标系属性\n",
    "             textcoords='offset points')           # 注释文本的坐标系属性\n",
    "\n",
    "print(\"The most popular name\")\n",
    "df[df['Births'] == df['Births'].max()]\n",
    "\n",
    "#Sorted.head(1) can also be used\n"
   ]
  },
  {
   "cell_type": "code",
   "execution_count": null,
   "metadata": {},
   "outputs": [],
   "source": []
  }
 ],
 "metadata": {
  "kernelspec": {
   "display_name": "Python 3",
   "language": "python",
   "name": "python3"
  },
  "language_info": {
   "codemirror_mode": {
    "name": "ipython",
    "version": 3
   },
   "file_extension": ".py",
   "mimetype": "text/x-python",
   "name": "python",
   "nbconvert_exporter": "python",
   "pygments_lexer": "ipython3",
   "version": "3.7.6"
  }
 },
 "nbformat": 4,
 "nbformat_minor": 4
}
