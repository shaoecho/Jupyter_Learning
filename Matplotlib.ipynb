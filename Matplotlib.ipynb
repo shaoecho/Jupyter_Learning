{
 "cells": [
  {
   "cell_type": "markdown",
   "metadata": {},
   "source": [
    "**直方图 hist**"
   ]
  },
  {
   "cell_type": "markdown",
   "metadata": {},
   "source": [
    "绘图之前，我们先来讲解一下matplotlib包中hist函数的参数含义及使用方法： "
   ]
  },
  {
   "cell_type": "raw",
   "metadata": {},
   "source": [
    "plt.hist(x, bins=10, range=None, normed=False, weights=None, cumulative=False, bottom=None, histtype='bar', align='mid', orientation='vertical', rwidth=None, log=False, color=None, label=None, stacked=False)  \n",
    "  \n",
    "1. x：指定要绘制直方图的数据； \n",
    "   \n",
    "2. bins：指定直方图条形的个数；  \n",
    "    \n",
    "3. range：指定直方图数据的上下界，默认包含绘图数据的最大值和最小值；   \n",
    "    \n",
    "4. normed：是否将直方图的频数转换成频率；   \n",
    "    \n",
    "5. weights：该参数可为每一个数据点设置权重；   \n",
    "  \n",
    "6. cumulative：是否需要计算累计频数或频率；   \n",
    "  \n",
    "7. bottom：可以为直方图的每个条形添加基准线，默认为0；   \n",
    "  \n",
    "8. histtype：指定直方图的类型，默认为bar，除此还有’barstacked’, ‘step’, ‘stepfilled’；\n",
    "  \n",
    "9. align：设置条形边界值的对其方式，默认为mid，除此还有’left’和’right’；\n",
    "  \n",
    "10. orientation：设置直方图的摆放方向，默认为垂直方向；\n",
    "  \n",
    "11. rwidth：设置直方图条形宽度的百分比；\n",
    "  \n",
    "12. log：是否需要对绘图数据进行log变换；\n",
    "  \n",
    "13. color：设置直方图的填充色；\n",
    "  \n",
    "14. label：设置直方图的标签，可通过legend展示其图例；\n",
    "  \n",
    "15. stacked：当有多个数据时，是否需要将直方图呈堆叠摆放，默认水平摆放； \n",
    "   \n",
    "https://www.kesci.com/home/project/59f6f21bc5f3f511952c2966"
   ]
  },
  {
   "cell_type": "code",
   "execution_count": null,
   "metadata": {},
   "outputs": [],
   "source": []
  }
 ],
 "metadata": {
  "kernelspec": {
   "display_name": "Python 3",
   "language": "python",
   "name": "python3"
  },
  "language_info": {
   "codemirror_mode": {
    "name": "ipython",
    "version": 3
   },
   "file_extension": ".py",
   "mimetype": "text/x-python",
   "name": "python",
   "nbconvert_exporter": "python",
   "pygments_lexer": "ipython3",
   "version": "3.7.6"
  }
 },
 "nbformat": 4,
 "nbformat_minor": 4
}
